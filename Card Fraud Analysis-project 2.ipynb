{
 "cells": [
  {
   "cell_type": "code",
   "execution_count": 1,
   "metadata": {},
   "outputs": [],
   "source": [
    "import pandas as pd\n",
    "import numpy as np\n",
    "import scipy.stats as sps\n",
    "import matplotlib.pyplot as plt\n",
    "import seaborn as sns\n",
    "import sklearn as skl\n",
    "from sklearn import preprocessing\n",
    "import math\n",
    "from datetime import datetime\n",
    "%matplotlib inline"
   ]
  },
  {
   "cell_type": "code",
   "execution_count": 7,
   "metadata": {},
   "outputs": [],
   "source": [
    "data=pd.read_excel(\"card transactions.xlsx\")\n",
    "data=pd.DataFrame(data)"
   ]
  },
  {
   "cell_type": "code",
   "execution_count": 29,
   "metadata": {},
   "outputs": [
    {
     "data": {
      "text/html": [
       "<div>\n",
       "<style scoped>\n",
       "    .dataframe tbody tr th:only-of-type {\n",
       "        vertical-align: middle;\n",
       "    }\n",
       "\n",
       "    .dataframe tbody tr th {\n",
       "        vertical-align: top;\n",
       "    }\n",
       "\n",
       "    .dataframe thead th {\n",
       "        text-align: right;\n",
       "    }\n",
       "</style>\n",
       "<table border=\"1\" class=\"dataframe\">\n",
       "  <thead>\n",
       "    <tr style=\"text-align: right;\">\n",
       "      <th></th>\n",
       "      <th>Recnum</th>\n",
       "      <th>Cardnum</th>\n",
       "      <th>Date</th>\n",
       "      <th>Merchnum</th>\n",
       "      <th>Merch description</th>\n",
       "      <th>Merch state</th>\n",
       "      <th>Merch zip</th>\n",
       "      <th>Transtype</th>\n",
       "      <th>Amount</th>\n",
       "      <th>Fraud</th>\n",
       "    </tr>\n",
       "  </thead>\n",
       "  <tbody>\n",
       "    <tr>\n",
       "      <th>0</th>\n",
       "      <td>1</td>\n",
       "      <td>5142190439</td>\n",
       "      <td>2010-01-01</td>\n",
       "      <td>5509006296254</td>\n",
       "      <td>FEDEX SHP 12/23/09 AB#</td>\n",
       "      <td>TN</td>\n",
       "      <td>38118.0</td>\n",
       "      <td>P</td>\n",
       "      <td>3.62</td>\n",
       "      <td>0</td>\n",
       "    </tr>\n",
       "    <tr>\n",
       "      <th>1</th>\n",
       "      <td>2</td>\n",
       "      <td>5142183973</td>\n",
       "      <td>2010-01-01</td>\n",
       "      <td>61003026333</td>\n",
       "      <td>SERVICE MERCHANDISE #81</td>\n",
       "      <td>MA</td>\n",
       "      <td>1803.0</td>\n",
       "      <td>P</td>\n",
       "      <td>31.42</td>\n",
       "      <td>0</td>\n",
       "    </tr>\n",
       "    <tr>\n",
       "      <th>2</th>\n",
       "      <td>3</td>\n",
       "      <td>5142131721</td>\n",
       "      <td>2010-01-01</td>\n",
       "      <td>4503082993600</td>\n",
       "      <td>OFFICE DEPOT #191</td>\n",
       "      <td>MD</td>\n",
       "      <td>20706.0</td>\n",
       "      <td>P</td>\n",
       "      <td>178.49</td>\n",
       "      <td>0</td>\n",
       "    </tr>\n",
       "    <tr>\n",
       "      <th>3</th>\n",
       "      <td>4</td>\n",
       "      <td>5142148452</td>\n",
       "      <td>2010-01-01</td>\n",
       "      <td>5509006296254</td>\n",
       "      <td>FEDEX SHP 12/28/09 AB#</td>\n",
       "      <td>TN</td>\n",
       "      <td>38118.0</td>\n",
       "      <td>P</td>\n",
       "      <td>3.62</td>\n",
       "      <td>0</td>\n",
       "    </tr>\n",
       "    <tr>\n",
       "      <th>4</th>\n",
       "      <td>5</td>\n",
       "      <td>5142190439</td>\n",
       "      <td>2010-01-01</td>\n",
       "      <td>5509006296254</td>\n",
       "      <td>FEDEX SHP 12/23/09 AB#</td>\n",
       "      <td>TN</td>\n",
       "      <td>38118.0</td>\n",
       "      <td>P</td>\n",
       "      <td>3.62</td>\n",
       "      <td>0</td>\n",
       "    </tr>\n",
       "  </tbody>\n",
       "</table>\n",
       "</div>"
      ],
      "text/plain": [
       "   Recnum     Cardnum       Date       Merchnum        Merch description  \\\n",
       "0       1  5142190439 2010-01-01  5509006296254   FEDEX SHP 12/23/09 AB#   \n",
       "1       2  5142183973 2010-01-01    61003026333  SERVICE MERCHANDISE #81   \n",
       "2       3  5142131721 2010-01-01  4503082993600        OFFICE DEPOT #191   \n",
       "3       4  5142148452 2010-01-01  5509006296254   FEDEX SHP 12/28/09 AB#   \n",
       "4       5  5142190439 2010-01-01  5509006296254   FEDEX SHP 12/23/09 AB#   \n",
       "\n",
       "  Merch state  Merch zip Transtype  Amount  Fraud  \n",
       "0          TN    38118.0         P    3.62      0  \n",
       "1          MA     1803.0         P   31.42      0  \n",
       "2          MD    20706.0         P  178.49      0  \n",
       "3          TN    38118.0         P    3.62      0  \n",
       "4          TN    38118.0         P    3.62      0  "
      ]
     },
     "execution_count": 29,
     "metadata": {},
     "output_type": "execute_result"
    }
   ],
   "source": [
    "data.head()"
   ]
  },
  {
   "cell_type": "markdown",
   "metadata": {},
   "source": [
    "# Remove outlier and all but type p"
   ]
  },
  {
   "cell_type": "code",
   "execution_count": 8,
   "metadata": {},
   "outputs": [],
   "source": [
    "card=data[data.Transtype==\"P\"]\n",
    "card=card[card.Recnum != 52715]"
   ]
  },
  {
   "cell_type": "markdown",
   "metadata": {},
   "source": [
    "# Fill missing variables"
   ]
  },
  {
   "cell_type": "markdown",
   "metadata": {},
   "source": [
    "## fill state"
   ]
  },
  {
   "cell_type": "code",
   "execution_count": 9,
   "metadata": {},
   "outputs": [],
   "source": [
    "state_fill=card.groupby('Merch zip')['Merch state'].apply(lambda x:x.mode()).reset_index()\n",
    "state_fill=state_fill[state_fill.level_1==1]\n",
    "state_fill=state_fill.drop(columns=['level_1'])\n",
    "state_fill.columns=[\"Merch zip\",\"state fill\"]\n",
    "card=card.merge(state_fill,on=\"Merch zip\", how='left')\n",
    "card[\"Merch state\"]=card[\"Merch state\"].fillna(card['state fill']).fillna('TN')\n",
    "card=card.drop(columns=['state fill'])"
   ]
  },
  {
   "cell_type": "markdown",
   "metadata": {},
   "source": [
    "## fill Merch zip and Merchnum"
   ]
  },
  {
   "cell_type": "code",
   "execution_count": 10,
   "metadata": {},
   "outputs": [],
   "source": [
    "card['Merch zip']=card.groupby([\"Merch description\"])['Merch zip'].apply(lambda x:x.fillna(x.median()))\n",
    "card['Merch zip']=card.groupby([\"Merch state\"])['Merch zip'].apply(lambda x:x.fillna(x.median()))\n",
    "card['Merch zip']=card['Merch zip'].fillna(38118)"
   ]
  },
  {
   "cell_type": "code",
   "execution_count": 11,
   "metadata": {},
   "outputs": [],
   "source": [
    "merchnum_fill=card.groupby([\"Merch description\"])['Merchnum'].apply(lambda x:x.mode()).reset_index()\n",
    "merchnum_fill=merchnum_fill[merchnum_fill.level_1 !=0]\n",
    "merchnum_fill=merchnum_fill.drop(columns=['level_1'])\n",
    "merchnum_fill.columns=[\"Merch description\",\"merchnum_fill\"]\n",
    "card=card.merge(merchnum_fill,on=\"Merch description\", how='left')\n",
    "card[\"Merchnum\"]=card[\"Merchnum\"].fillna(card['merchnum_fill']).fillna('930090121224')\n",
    "card=card.drop(columns=['merchnum_fill'])"
   ]
  },
  {
   "cell_type": "markdown",
   "metadata": {},
   "source": [
    "# Variable Creation"
   ]
  },
  {
   "cell_type": "code",
   "execution_count": 12,
   "metadata": {},
   "outputs": [],
   "source": [
    "card=pd.DataFrame.drop_duplicates(card)"
   ]
  },
  {
   "cell_type": "markdown",
   "metadata": {},
   "source": [
    "## Create New variables"
   ]
  },
  {
   "cell_type": "code",
   "execution_count": 13,
   "metadata": {},
   "outputs": [],
   "source": [
    "data_sorted=card\n",
    "#Cardnum, Merchnum\n",
    "for groupbyvar in ['Cardnum', 'Merchnum']:\n",
    "    data_sorted = data_sorted.sort_values(by = [groupbyvar, 'Date'])\n",
    "    data_sorted_index = data_sorted.set_index('Date')\n",
    "    for agg in ['mean', 'max', 'median', 'sum', 'count']:\n",
    "        for days in ['1d', '3d', '7d', '14d', '30d']:\n",
    "            data_sorted[agg + '_' + groupbyvar + \"_\" + days]=getattr(data_sorted_index.groupby(groupbyvar)['Amount'].rolling(days),agg)().values\n",
    "            data_sorted['Actual/' + agg + \"_\" + groupbyvar + \"_\" + days] = data_sorted['Amount']/data_sorted[agg + '_' + groupbyvar + \"_\" + days]"
   ]
  },
  {
   "cell_type": "code",
   "execution_count": 14,
   "metadata": {},
   "outputs": [],
   "source": [
    "#Cardnum and Merchnum, Cardnum and Zip, Cardnum and state\n",
    "for groupbyvar in ['Merchnum', 'Merch zip', 'Merch state']:\n",
    "    data_sorted = data_sorted.sort_values(by = ['Cardnum',groupbyvar, 'Date'])\n",
    "    data_sorted_index = data_sorted.set_index('Date')\n",
    "    for agg in ['mean', 'max', 'median', 'sum', 'count']:\n",
    "        for days in ['1d', '3d', '7d', '14d', '30d']:\n",
    "            data_sorted[agg + '_' + \"Cardnum_\" + groupbyvar + \"_\" + days] = getattr(data_sorted_index.groupby(['Cardnum',groupbyvar])['Amount'].rolling(days),agg)().values\n",
    "            data_sorted['Actual/' + agg + \"_\" + \"Cardnum_\" + groupbyvar + \"_\" + days] = data_sorted['Amount']/data_sorted[agg + '_' + \"Cardnum_\" + groupbyvar + \"_\" + days]"
   ]
  },
  {
   "cell_type": "code",
   "execution_count": 15,
   "metadata": {},
   "outputs": [],
   "source": [
    "#Create days since variables\n",
    "data_sorted1=data_sorted\n",
    "for groupbyvar in [['Cardnum'], ['Merchnum'], ['Cardnum', 'Merchnum'], ['Cardnum', 'Merch zip'], ['Cardnum', 'Merch state']]:\n",
    "    sortCols = groupbyvar[:]\n",
    "    sortCols.append('Date')\n",
    "    data_sorted1 = data_sorted1.sort_values(by = sortCols)\n",
    "    if len(groupbyvar) == 1:\n",
    "        data_sorted1['Days_since_per_' + groupbyvar[0]] = data_sorted1.groupby(groupbyvar)['Date'].apply(lambda x: (x - x.shift(1)).astype('timedelta64[D]')).fillna(365).values\n",
    "    else:\n",
    "        data_sorted1['Days_since_per_Cardnum_' + groupbyvar[1]] = data_sorted1.groupby(groupbyvar)['Date'].apply(lambda x: (x-x.shift(1)).astype('timedelta64[D]')).fillna(365).values"
   ]
  },
  {
   "cell_type": "code",
   "execution_count": 28,
   "metadata": {},
   "outputs": [
    {
     "data": {
      "text/html": [
       "<div>\n",
       "<style scoped>\n",
       "    .dataframe tbody tr th:only-of-type {\n",
       "        vertical-align: middle;\n",
       "    }\n",
       "\n",
       "    .dataframe tbody tr th {\n",
       "        vertical-align: top;\n",
       "    }\n",
       "\n",
       "    .dataframe thead th {\n",
       "        text-align: right;\n",
       "    }\n",
       "</style>\n",
       "<table border=\"1\" class=\"dataframe\">\n",
       "  <thead>\n",
       "    <tr style=\"text-align: right;\">\n",
       "      <th></th>\n",
       "      <th>Recnum</th>\n",
       "      <th>Cardnum</th>\n",
       "      <th>Date</th>\n",
       "      <th>Merchnum</th>\n",
       "      <th>Merch description</th>\n",
       "      <th>Merch state</th>\n",
       "      <th>Merch zip</th>\n",
       "      <th>Transtype</th>\n",
       "      <th>Amount</th>\n",
       "      <th>Fraud</th>\n",
       "      <th>...</th>\n",
       "      <th>Actual/count_Cardnum_Merch state_7d</th>\n",
       "      <th>count_Cardnum_Merch state_14d</th>\n",
       "      <th>Actual/count_Cardnum_Merch state_14d</th>\n",
       "      <th>count_Cardnum_Merch state_30d</th>\n",
       "      <th>Actual/count_Cardnum_Merch state_30d</th>\n",
       "      <th>Days_since_per_Cardnum</th>\n",
       "      <th>Days_since_per_Merchnum</th>\n",
       "      <th>Days_since_per_Cardnum_Merchnum</th>\n",
       "      <th>Days_since_per_Cardnum_Merch zip</th>\n",
       "      <th>Days_since_per_Cardnum_Merch state</th>\n",
       "    </tr>\n",
       "  </thead>\n",
       "  <tbody>\n",
       "    <tr>\n",
       "      <th>81092</th>\n",
       "      <td>81127</td>\n",
       "      <td>5142110002</td>\n",
       "      <td>2010-10-12</td>\n",
       "      <td>930090121224</td>\n",
       "      <td>X REVERSAL OF CR BAL REF</td>\n",
       "      <td>VA</td>\n",
       "      <td>22202.0</td>\n",
       "      <td>P</td>\n",
       "      <td>150.0</td>\n",
       "      <td>0</td>\n",
       "      <td>...</td>\n",
       "      <td>150.0</td>\n",
       "      <td>1.0</td>\n",
       "      <td>150.0</td>\n",
       "      <td>1.0</td>\n",
       "      <td>150.0</td>\n",
       "      <td>365.0</td>\n",
       "      <td>1.0</td>\n",
       "      <td>365.0</td>\n",
       "      <td>365.0</td>\n",
       "      <td>365.0</td>\n",
       "    </tr>\n",
       "    <tr>\n",
       "      <th>16683</th>\n",
       "      <td>16628</td>\n",
       "      <td>5142110081</td>\n",
       "      <td>2010-03-08</td>\n",
       "      <td>930090121224</td>\n",
       "      <td>X OFFICE DEPOT #1</td>\n",
       "      <td>TN</td>\n",
       "      <td>38118.0</td>\n",
       "      <td>P</td>\n",
       "      <td>495.9</td>\n",
       "      <td>0</td>\n",
       "      <td>...</td>\n",
       "      <td>495.9</td>\n",
       "      <td>1.0</td>\n",
       "      <td>495.9</td>\n",
       "      <td>1.0</td>\n",
       "      <td>495.9</td>\n",
       "      <td>365.0</td>\n",
       "      <td>1.0</td>\n",
       "      <td>365.0</td>\n",
       "      <td>365.0</td>\n",
       "      <td>365.0</td>\n",
       "    </tr>\n",
       "    <tr>\n",
       "      <th>16855</th>\n",
       "      <td>16801</td>\n",
       "      <td>5142110081</td>\n",
       "      <td>2010-03-08</td>\n",
       "      <td>930090121224</td>\n",
       "      <td>X FRANKLIN COVEY</td>\n",
       "      <td>TN</td>\n",
       "      <td>38118.0</td>\n",
       "      <td>P</td>\n",
       "      <td>636.2</td>\n",
       "      <td>0</td>\n",
       "      <td>...</td>\n",
       "      <td>318.1</td>\n",
       "      <td>2.0</td>\n",
       "      <td>318.1</td>\n",
       "      <td>2.0</td>\n",
       "      <td>318.1</td>\n",
       "      <td>0.0</td>\n",
       "      <td>0.0</td>\n",
       "      <td>0.0</td>\n",
       "      <td>0.0</td>\n",
       "      <td>0.0</td>\n",
       "    </tr>\n",
       "    <tr>\n",
       "      <th>89465</th>\n",
       "      <td>89482</td>\n",
       "      <td>5142110081</td>\n",
       "      <td>2010-11-26</td>\n",
       "      <td>2094330000009</td>\n",
       "      <td>FRANKLIN COVEY COMPANY</td>\n",
       "      <td>UT</td>\n",
       "      <td>84119.0</td>\n",
       "      <td>P</td>\n",
       "      <td>636.2</td>\n",
       "      <td>0</td>\n",
       "      <td>...</td>\n",
       "      <td>636.2</td>\n",
       "      <td>1.0</td>\n",
       "      <td>636.2</td>\n",
       "      <td>1.0</td>\n",
       "      <td>636.2</td>\n",
       "      <td>263.0</td>\n",
       "      <td>2.0</td>\n",
       "      <td>365.0</td>\n",
       "      <td>365.0</td>\n",
       "      <td>365.0</td>\n",
       "    </tr>\n",
       "    <tr>\n",
       "      <th>95976</th>\n",
       "      <td>95973</td>\n",
       "      <td>5142110081</td>\n",
       "      <td>2010-12-27</td>\n",
       "      <td>4503082412500</td>\n",
       "      <td>OFFICE DEPOT #1078</td>\n",
       "      <td>WA</td>\n",
       "      <td>98032.0</td>\n",
       "      <td>P</td>\n",
       "      <td>495.9</td>\n",
       "      <td>0</td>\n",
       "      <td>...</td>\n",
       "      <td>495.9</td>\n",
       "      <td>1.0</td>\n",
       "      <td>495.9</td>\n",
       "      <td>1.0</td>\n",
       "      <td>495.9</td>\n",
       "      <td>31.0</td>\n",
       "      <td>5.0</td>\n",
       "      <td>365.0</td>\n",
       "      <td>365.0</td>\n",
       "      <td>365.0</td>\n",
       "    </tr>\n",
       "  </tbody>\n",
       "</table>\n",
       "<p>5 rows × 265 columns</p>\n",
       "</div>"
      ],
      "text/plain": [
       "       Recnum     Cardnum       Date       Merchnum         Merch description  \\\n",
       "81092   81127  5142110002 2010-10-12   930090121224  X REVERSAL OF CR BAL REF   \n",
       "16683   16628  5142110081 2010-03-08   930090121224         X OFFICE DEPOT #1   \n",
       "16855   16801  5142110081 2010-03-08   930090121224          X FRANKLIN COVEY   \n",
       "89465   89482  5142110081 2010-11-26  2094330000009    FRANKLIN COVEY COMPANY   \n",
       "95976   95973  5142110081 2010-12-27  4503082412500        OFFICE DEPOT #1078   \n",
       "\n",
       "      Merch state  Merch zip Transtype  Amount  Fraud  \\\n",
       "81092          VA    22202.0         P   150.0      0   \n",
       "16683          TN    38118.0         P   495.9      0   \n",
       "16855          TN    38118.0         P   636.2      0   \n",
       "89465          UT    84119.0         P   636.2      0   \n",
       "95976          WA    98032.0         P   495.9      0   \n",
       "\n",
       "                      ...                  \\\n",
       "81092                 ...                   \n",
       "16683                 ...                   \n",
       "16855                 ...                   \n",
       "89465                 ...                   \n",
       "95976                 ...                   \n",
       "\n",
       "       Actual/count_Cardnum_Merch state_7d  count_Cardnum_Merch state_14d  \\\n",
       "81092                                150.0                            1.0   \n",
       "16683                                495.9                            1.0   \n",
       "16855                                318.1                            2.0   \n",
       "89465                                636.2                            1.0   \n",
       "95976                                495.9                            1.0   \n",
       "\n",
       "       Actual/count_Cardnum_Merch state_14d  count_Cardnum_Merch state_30d  \\\n",
       "81092                                 150.0                            1.0   \n",
       "16683                                 495.9                            1.0   \n",
       "16855                                 318.1                            2.0   \n",
       "89465                                 636.2                            1.0   \n",
       "95976                                 495.9                            1.0   \n",
       "\n",
       "       Actual/count_Cardnum_Merch state_30d  Days_since_per_Cardnum  \\\n",
       "81092                                 150.0                   365.0   \n",
       "16683                                 495.9                   365.0   \n",
       "16855                                 318.1                     0.0   \n",
       "89465                                 636.2                   263.0   \n",
       "95976                                 495.9                    31.0   \n",
       "\n",
       "       Days_since_per_Merchnum  Days_since_per_Cardnum_Merchnum  \\\n",
       "81092                      1.0                            365.0   \n",
       "16683                      1.0                            365.0   \n",
       "16855                      0.0                              0.0   \n",
       "89465                      2.0                            365.0   \n",
       "95976                      5.0                            365.0   \n",
       "\n",
       "       Days_since_per_Cardnum_Merch zip  Days_since_per_Cardnum_Merch state  \n",
       "81092                             365.0                               365.0  \n",
       "16683                             365.0                               365.0  \n",
       "16855                               0.0                                 0.0  \n",
       "89465                             365.0                               365.0  \n",
       "95976                             365.0                               365.0  \n",
       "\n",
       "[5 rows x 265 columns]"
      ]
     },
     "execution_count": 28,
     "metadata": {},
     "output_type": "execute_result"
    }
   ],
   "source": [
    "data_sorted1.head()"
   ]
  },
  {
   "cell_type": "markdown",
   "metadata": {},
   "source": [
    "## KS table"
   ]
  },
  {
   "cell_type": "code",
   "execution_count": 56,
   "metadata": {
    "scrolled": true
   },
   "outputs": [],
   "source": [
    "ks=data_sorted1\n",
    "ks=ks[ks.Date<\"2010-11-01\"] # get traing+testing data before 11/01/2010"
   ]
  },
  {
   "cell_type": "code",
   "execution_count": 57,
   "metadata": {},
   "outputs": [
    {
     "name": "stderr",
     "output_type": "stream",
     "text": [
      "/anaconda3/lib/python3.7/site-packages/ipykernel_launcher.py:1: SettingWithCopyWarning: \n",
      "A value is trying to be set on a copy of a slice from a DataFrame.\n",
      "Try using .loc[row_indexer,col_indexer] = value instead\n",
      "\n",
      "See the caveats in the documentation: http://pandas.pydata.org/pandas-docs/stable/indexing.html#indexing-view-versus-copy\n",
      "  \"\"\"Entry point for launching an IPython kernel.\n"
     ]
    }
   ],
   "source": [
    "ks['rv']=np.random.randn(83970) # add random column\n",
    "ks=ks.iloc[:,9:]# delete original variables\n",
    "good_ks=ks[ks.Fraud==0]\n",
    "bad_ks=ks[ks.Fraud==1]"
   ]
  },
  {
   "cell_type": "code",
   "execution_count": 58,
   "metadata": {},
   "outputs": [],
   "source": [
    "var_name=ks.columns.values\n",
    "ks_dic={}\n",
    "for i in var_name:\n",
    "    ks_dic[i]=sps.ks_2samp(good_ks[i],bad_ks[i])[0]  # get ks score"
   ]
  },
  {
   "cell_type": "markdown",
   "metadata": {},
   "source": [
    "## FDR table "
   ]
  },
  {
   "cell_type": "code",
   "execution_count": 59,
   "metadata": {},
   "outputs": [],
   "source": [
    "fdr={}\n",
    "for i in var_name:\n",
    "    f=ks.sort_values(by=i,ascending=False)\n",
    "    f1=f.iloc[:2528,]\n",
    "    f2=f.iloc[81742:,]\n",
    "    f1_fdr=np.mean(f1.Fraud)*2528/880\n",
    "    f2_fdr=np.mean(f2.Fraud)*2528/880\n",
    "    f_score=max(f1_fdr,f2_fdr)\n",
    "    fdr[i]=f_score"
   ]
  },
  {
   "cell_type": "markdown",
   "metadata": {},
   "source": [
    "## Build KS and FDR table"
   ]
  },
  {
   "cell_type": "code",
   "execution_count": 60,
   "metadata": {},
   "outputs": [],
   "source": [
    "kstable=pd.Series(ks_dic).sort_values(ascending=False)\n",
    "kstable=pd.DataFrame(kstable).reset_index()\n",
    "\n",
    "fdrtable=pd.Series(fdr).sort_values(ascending=False)\n",
    "fdrtable=pd.DataFrame(fdrtable).reset_index()\n",
    "\n",
    "kstable.columns=[\"variable\",\"ks\"]\n",
    "fdrtable.columns=[\"variable\",\"fdr\"]"
   ]
  },
  {
   "cell_type": "code",
   "execution_count": 61,
   "metadata": {},
   "outputs": [],
   "source": [
    "ks_fdr=kstable.merge(fdrtable,on=\"variable\", how='left')\n",
    "\n",
    "ks_rank=pd.DataFrame.rank(ks_fdr['ks'],ascending=False)\n",
    "fdr_rank=pd.DataFrame.rank(ks_fdr['fdr'],ascending=False)\n",
    "\n",
    "ks_fdr['ks rank']=pd.Series(ks_rank)\n",
    "ks_fdr['fdr rank']=pd.Series(fdr_rank)"
   ]
  },
  {
   "cell_type": "markdown",
   "metadata": {},
   "source": [
    "## Filter variables"
   ]
  },
  {
   "cell_type": "code",
   "execution_count": 62,
   "metadata": {},
   "outputs": [],
   "source": [
    "ks_fdr[\"avg rank\"]=(ks_fdr[\"ks rank\"]+ks_fdr[\"fdr rank\"])/2\n",
    "var=ks_fdr[ks_fdr[\"avg rank\"]<=120]# select top 110 variables by average rank of ks and fdr\n",
    "\n",
    "card=ks[var[\"variable\"].values]\n",
    "#card.to_csv(\"filtered data.csv\")\n",
    "#data_sorted1.to_csv(\"data_sorted1.csv\")"
   ]
  },
  {
   "cell_type": "code",
   "execution_count": 44,
   "metadata": {},
   "outputs": [],
   "source": [
    "card=pd.read_csv(\"filtered data.csv\")\n",
    "data_sorted1=pd.read_csv(\"data_sorted1.csv\")"
   ]
  },
  {
   "cell_type": "code",
   "execution_count": 63,
   "metadata": {},
   "outputs": [],
   "source": [
    "X= card.drop(columns = ['Fraud'])\n",
    "y = card['Fraud']"
   ]
  },
  {
   "cell_type": "markdown",
   "metadata": {},
   "source": [
    "## RFE Wrapper"
   ]
  },
  {
   "cell_type": "code",
   "execution_count": 147,
   "metadata": {
    "scrolled": true
   },
   "outputs": [
    {
     "name": "stderr",
     "output_type": "stream",
     "text": [
      "/anaconda3/lib/python3.7/site-packages/sklearn/linear_model/logistic.py:758: ConvergenceWarning: lbfgs failed to converge. Increase the number of iterations.\n",
      "  \"of iterations.\", ConvergenceWarning)\n",
      "/anaconda3/lib/python3.7/site-packages/sklearn/linear_model/logistic.py:758: ConvergenceWarning: lbfgs failed to converge. Increase the number of iterations.\n",
      "  \"of iterations.\", ConvergenceWarning)\n",
      "/anaconda3/lib/python3.7/site-packages/sklearn/linear_model/logistic.py:758: ConvergenceWarning: lbfgs failed to converge. Increase the number of iterations.\n",
      "  \"of iterations.\", ConvergenceWarning)\n",
      "/anaconda3/lib/python3.7/site-packages/sklearn/linear_model/logistic.py:758: ConvergenceWarning: lbfgs failed to converge. Increase the number of iterations.\n",
      "  \"of iterations.\", ConvergenceWarning)\n",
      "/anaconda3/lib/python3.7/site-packages/sklearn/linear_model/logistic.py:758: ConvergenceWarning: lbfgs failed to converge. Increase the number of iterations.\n",
      "  \"of iterations.\", ConvergenceWarning)\n",
      "/anaconda3/lib/python3.7/site-packages/sklearn/linear_model/logistic.py:758: ConvergenceWarning: lbfgs failed to converge. Increase the number of iterations.\n",
      "  \"of iterations.\", ConvergenceWarning)\n",
      "/anaconda3/lib/python3.7/site-packages/sklearn/linear_model/logistic.py:758: ConvergenceWarning: lbfgs failed to converge. Increase the number of iterations.\n",
      "  \"of iterations.\", ConvergenceWarning)\n",
      "/anaconda3/lib/python3.7/site-packages/sklearn/linear_model/logistic.py:758: ConvergenceWarning: lbfgs failed to converge. Increase the number of iterations.\n",
      "  \"of iterations.\", ConvergenceWarning)\n",
      "/anaconda3/lib/python3.7/site-packages/sklearn/linear_model/logistic.py:758: ConvergenceWarning: lbfgs failed to converge. Increase the number of iterations.\n",
      "  \"of iterations.\", ConvergenceWarning)\n",
      "/anaconda3/lib/python3.7/site-packages/sklearn/linear_model/logistic.py:758: ConvergenceWarning: lbfgs failed to converge. Increase the number of iterations.\n",
      "  \"of iterations.\", ConvergenceWarning)\n",
      "/anaconda3/lib/python3.7/site-packages/sklearn/linear_model/logistic.py:758: ConvergenceWarning: lbfgs failed to converge. Increase the number of iterations.\n",
      "  \"of iterations.\", ConvergenceWarning)\n",
      "/anaconda3/lib/python3.7/site-packages/sklearn/linear_model/logistic.py:758: ConvergenceWarning: lbfgs failed to converge. Increase the number of iterations.\n",
      "  \"of iterations.\", ConvergenceWarning)\n",
      "/anaconda3/lib/python3.7/site-packages/sklearn/linear_model/logistic.py:758: ConvergenceWarning: lbfgs failed to converge. Increase the number of iterations.\n",
      "  \"of iterations.\", ConvergenceWarning)\n",
      "/anaconda3/lib/python3.7/site-packages/sklearn/linear_model/logistic.py:758: ConvergenceWarning: lbfgs failed to converge. Increase the number of iterations.\n",
      "  \"of iterations.\", ConvergenceWarning)\n",
      "/anaconda3/lib/python3.7/site-packages/sklearn/linear_model/logistic.py:758: ConvergenceWarning: lbfgs failed to converge. Increase the number of iterations.\n",
      "  \"of iterations.\", ConvergenceWarning)\n",
      "/anaconda3/lib/python3.7/site-packages/sklearn/linear_model/logistic.py:758: ConvergenceWarning: lbfgs failed to converge. Increase the number of iterations.\n",
      "  \"of iterations.\", ConvergenceWarning)\n",
      "/anaconda3/lib/python3.7/site-packages/sklearn/linear_model/logistic.py:758: ConvergenceWarning: lbfgs failed to converge. Increase the number of iterations.\n",
      "  \"of iterations.\", ConvergenceWarning)\n",
      "/anaconda3/lib/python3.7/site-packages/sklearn/linear_model/logistic.py:758: ConvergenceWarning: lbfgs failed to converge. Increase the number of iterations.\n",
      "  \"of iterations.\", ConvergenceWarning)\n",
      "/anaconda3/lib/python3.7/site-packages/sklearn/linear_model/logistic.py:758: ConvergenceWarning: lbfgs failed to converge. Increase the number of iterations.\n",
      "  \"of iterations.\", ConvergenceWarning)\n",
      "/anaconda3/lib/python3.7/site-packages/sklearn/linear_model/logistic.py:758: ConvergenceWarning: lbfgs failed to converge. Increase the number of iterations.\n",
      "  \"of iterations.\", ConvergenceWarning)\n",
      "/anaconda3/lib/python3.7/site-packages/sklearn/linear_model/logistic.py:758: ConvergenceWarning: lbfgs failed to converge. Increase the number of iterations.\n",
      "  \"of iterations.\", ConvergenceWarning)\n",
      "/anaconda3/lib/python3.7/site-packages/sklearn/linear_model/logistic.py:758: ConvergenceWarning: lbfgs failed to converge. Increase the number of iterations.\n",
      "  \"of iterations.\", ConvergenceWarning)\n",
      "/anaconda3/lib/python3.7/site-packages/sklearn/linear_model/logistic.py:758: ConvergenceWarning: lbfgs failed to converge. Increase the number of iterations.\n",
      "  \"of iterations.\", ConvergenceWarning)\n",
      "/anaconda3/lib/python3.7/site-packages/sklearn/linear_model/logistic.py:758: ConvergenceWarning: lbfgs failed to converge. Increase the number of iterations.\n",
      "  \"of iterations.\", ConvergenceWarning)\n",
      "/anaconda3/lib/python3.7/site-packages/sklearn/linear_model/logistic.py:758: ConvergenceWarning: lbfgs failed to converge. Increase the number of iterations.\n",
      "  \"of iterations.\", ConvergenceWarning)\n",
      "/anaconda3/lib/python3.7/site-packages/sklearn/linear_model/logistic.py:758: ConvergenceWarning: lbfgs failed to converge. Increase the number of iterations.\n",
      "  \"of iterations.\", ConvergenceWarning)\n",
      "/anaconda3/lib/python3.7/site-packages/sklearn/linear_model/logistic.py:758: ConvergenceWarning: lbfgs failed to converge. Increase the number of iterations.\n",
      "  \"of iterations.\", ConvergenceWarning)\n",
      "/anaconda3/lib/python3.7/site-packages/sklearn/linear_model/logistic.py:758: ConvergenceWarning: lbfgs failed to converge. Increase the number of iterations.\n",
      "  \"of iterations.\", ConvergenceWarning)\n",
      "/anaconda3/lib/python3.7/site-packages/sklearn/linear_model/logistic.py:758: ConvergenceWarning: lbfgs failed to converge. Increase the number of iterations.\n",
      "  \"of iterations.\", ConvergenceWarning)\n",
      "/anaconda3/lib/python3.7/site-packages/sklearn/linear_model/logistic.py:758: ConvergenceWarning: lbfgs failed to converge. Increase the number of iterations.\n",
      "  \"of iterations.\", ConvergenceWarning)\n",
      "/anaconda3/lib/python3.7/site-packages/sklearn/linear_model/logistic.py:758: ConvergenceWarning: lbfgs failed to converge. Increase the number of iterations.\n",
      "  \"of iterations.\", ConvergenceWarning)\n",
      "/anaconda3/lib/python3.7/site-packages/sklearn/linear_model/logistic.py:758: ConvergenceWarning: lbfgs failed to converge. Increase the number of iterations.\n",
      "  \"of iterations.\", ConvergenceWarning)\n",
      "/anaconda3/lib/python3.7/site-packages/sklearn/linear_model/logistic.py:758: ConvergenceWarning: lbfgs failed to converge. Increase the number of iterations.\n",
      "  \"of iterations.\", ConvergenceWarning)\n",
      "/anaconda3/lib/python3.7/site-packages/sklearn/linear_model/logistic.py:758: ConvergenceWarning: lbfgs failed to converge. Increase the number of iterations.\n",
      "  \"of iterations.\", ConvergenceWarning)\n",
      "/anaconda3/lib/python3.7/site-packages/sklearn/linear_model/logistic.py:758: ConvergenceWarning: lbfgs failed to converge. Increase the number of iterations.\n",
      "  \"of iterations.\", ConvergenceWarning)\n",
      "/anaconda3/lib/python3.7/site-packages/sklearn/linear_model/logistic.py:758: ConvergenceWarning: lbfgs failed to converge. Increase the number of iterations.\n",
      "  \"of iterations.\", ConvergenceWarning)\n",
      "/anaconda3/lib/python3.7/site-packages/sklearn/linear_model/logistic.py:758: ConvergenceWarning: lbfgs failed to converge. Increase the number of iterations.\n",
      "  \"of iterations.\", ConvergenceWarning)\n",
      "/anaconda3/lib/python3.7/site-packages/sklearn/linear_model/logistic.py:758: ConvergenceWarning: lbfgs failed to converge. Increase the number of iterations.\n",
      "  \"of iterations.\", ConvergenceWarning)\n",
      "/anaconda3/lib/python3.7/site-packages/sklearn/linear_model/logistic.py:758: ConvergenceWarning: lbfgs failed to converge. Increase the number of iterations.\n",
      "  \"of iterations.\", ConvergenceWarning)\n",
      "/anaconda3/lib/python3.7/site-packages/sklearn/linear_model/logistic.py:758: ConvergenceWarning: lbfgs failed to converge. Increase the number of iterations.\n",
      "  \"of iterations.\", ConvergenceWarning)\n",
      "/anaconda3/lib/python3.7/site-packages/sklearn/linear_model/logistic.py:758: ConvergenceWarning: lbfgs failed to converge. Increase the number of iterations.\n",
      "  \"of iterations.\", ConvergenceWarning)\n",
      "/anaconda3/lib/python3.7/site-packages/sklearn/linear_model/logistic.py:758: ConvergenceWarning: lbfgs failed to converge. Increase the number of iterations.\n",
      "  \"of iterations.\", ConvergenceWarning)\n"
     ]
    },
    {
     "name": "stderr",
     "output_type": "stream",
     "text": [
      "/anaconda3/lib/python3.7/site-packages/sklearn/linear_model/logistic.py:758: ConvergenceWarning: lbfgs failed to converge. Increase the number of iterations.\n",
      "  \"of iterations.\", ConvergenceWarning)\n",
      "/anaconda3/lib/python3.7/site-packages/sklearn/linear_model/logistic.py:758: ConvergenceWarning: lbfgs failed to converge. Increase the number of iterations.\n",
      "  \"of iterations.\", ConvergenceWarning)\n",
      "/anaconda3/lib/python3.7/site-packages/sklearn/linear_model/logistic.py:758: ConvergenceWarning: lbfgs failed to converge. Increase the number of iterations.\n",
      "  \"of iterations.\", ConvergenceWarning)\n",
      "/anaconda3/lib/python3.7/site-packages/sklearn/linear_model/logistic.py:758: ConvergenceWarning: lbfgs failed to converge. Increase the number of iterations.\n",
      "  \"of iterations.\", ConvergenceWarning)\n",
      "/anaconda3/lib/python3.7/site-packages/sklearn/linear_model/logistic.py:758: ConvergenceWarning: lbfgs failed to converge. Increase the number of iterations.\n",
      "  \"of iterations.\", ConvergenceWarning)\n",
      "/anaconda3/lib/python3.7/site-packages/sklearn/linear_model/logistic.py:758: ConvergenceWarning: lbfgs failed to converge. Increase the number of iterations.\n",
      "  \"of iterations.\", ConvergenceWarning)\n",
      "/anaconda3/lib/python3.7/site-packages/sklearn/linear_model/logistic.py:758: ConvergenceWarning: lbfgs failed to converge. Increase the number of iterations.\n",
      "  \"of iterations.\", ConvergenceWarning)\n",
      "/anaconda3/lib/python3.7/site-packages/sklearn/linear_model/logistic.py:758: ConvergenceWarning: lbfgs failed to converge. Increase the number of iterations.\n",
      "  \"of iterations.\", ConvergenceWarning)\n",
      "/anaconda3/lib/python3.7/site-packages/sklearn/linear_model/logistic.py:758: ConvergenceWarning: lbfgs failed to converge. Increase the number of iterations.\n",
      "  \"of iterations.\", ConvergenceWarning)\n",
      "/anaconda3/lib/python3.7/site-packages/sklearn/linear_model/logistic.py:758: ConvergenceWarning: lbfgs failed to converge. Increase the number of iterations.\n",
      "  \"of iterations.\", ConvergenceWarning)\n",
      "/anaconda3/lib/python3.7/site-packages/sklearn/linear_model/logistic.py:758: ConvergenceWarning: lbfgs failed to converge. Increase the number of iterations.\n",
      "  \"of iterations.\", ConvergenceWarning)\n",
      "/anaconda3/lib/python3.7/site-packages/sklearn/linear_model/logistic.py:758: ConvergenceWarning: lbfgs failed to converge. Increase the number of iterations.\n",
      "  \"of iterations.\", ConvergenceWarning)\n",
      "/anaconda3/lib/python3.7/site-packages/sklearn/linear_model/logistic.py:758: ConvergenceWarning: lbfgs failed to converge. Increase the number of iterations.\n",
      "  \"of iterations.\", ConvergenceWarning)\n",
      "/anaconda3/lib/python3.7/site-packages/sklearn/linear_model/logistic.py:758: ConvergenceWarning: lbfgs failed to converge. Increase the number of iterations.\n",
      "  \"of iterations.\", ConvergenceWarning)\n",
      "/anaconda3/lib/python3.7/site-packages/sklearn/linear_model/logistic.py:758: ConvergenceWarning: lbfgs failed to converge. Increase the number of iterations.\n",
      "  \"of iterations.\", ConvergenceWarning)\n",
      "/anaconda3/lib/python3.7/site-packages/sklearn/linear_model/logistic.py:758: ConvergenceWarning: lbfgs failed to converge. Increase the number of iterations.\n",
      "  \"of iterations.\", ConvergenceWarning)\n",
      "/anaconda3/lib/python3.7/site-packages/sklearn/linear_model/logistic.py:758: ConvergenceWarning: lbfgs failed to converge. Increase the number of iterations.\n",
      "  \"of iterations.\", ConvergenceWarning)\n",
      "/anaconda3/lib/python3.7/site-packages/sklearn/linear_model/logistic.py:758: ConvergenceWarning: lbfgs failed to converge. Increase the number of iterations.\n",
      "  \"of iterations.\", ConvergenceWarning)\n",
      "/anaconda3/lib/python3.7/site-packages/sklearn/linear_model/logistic.py:758: ConvergenceWarning: lbfgs failed to converge. Increase the number of iterations.\n",
      "  \"of iterations.\", ConvergenceWarning)\n",
      "/anaconda3/lib/python3.7/site-packages/sklearn/linear_model/logistic.py:758: ConvergenceWarning: lbfgs failed to converge. Increase the number of iterations.\n",
      "  \"of iterations.\", ConvergenceWarning)\n",
      "/anaconda3/lib/python3.7/site-packages/sklearn/linear_model/logistic.py:758: ConvergenceWarning: lbfgs failed to converge. Increase the number of iterations.\n",
      "  \"of iterations.\", ConvergenceWarning)\n",
      "/anaconda3/lib/python3.7/site-packages/sklearn/linear_model/logistic.py:758: ConvergenceWarning: lbfgs failed to converge. Increase the number of iterations.\n",
      "  \"of iterations.\", ConvergenceWarning)\n",
      "/anaconda3/lib/python3.7/site-packages/sklearn/linear_model/logistic.py:758: ConvergenceWarning: lbfgs failed to converge. Increase the number of iterations.\n",
      "  \"of iterations.\", ConvergenceWarning)\n",
      "/anaconda3/lib/python3.7/site-packages/sklearn/linear_model/logistic.py:758: ConvergenceWarning: lbfgs failed to converge. Increase the number of iterations.\n",
      "  \"of iterations.\", ConvergenceWarning)\n",
      "/anaconda3/lib/python3.7/site-packages/sklearn/linear_model/logistic.py:758: ConvergenceWarning: lbfgs failed to converge. Increase the number of iterations.\n",
      "  \"of iterations.\", ConvergenceWarning)\n",
      "/anaconda3/lib/python3.7/site-packages/sklearn/linear_model/logistic.py:758: ConvergenceWarning: lbfgs failed to converge. Increase the number of iterations.\n",
      "  \"of iterations.\", ConvergenceWarning)\n",
      "/anaconda3/lib/python3.7/site-packages/sklearn/linear_model/logistic.py:758: ConvergenceWarning: lbfgs failed to converge. Increase the number of iterations.\n",
      "  \"of iterations.\", ConvergenceWarning)\n",
      "/anaconda3/lib/python3.7/site-packages/sklearn/linear_model/logistic.py:758: ConvergenceWarning: lbfgs failed to converge. Increase the number of iterations.\n",
      "  \"of iterations.\", ConvergenceWarning)\n",
      "/anaconda3/lib/python3.7/site-packages/sklearn/linear_model/logistic.py:758: ConvergenceWarning: lbfgs failed to converge. Increase the number of iterations.\n",
      "  \"of iterations.\", ConvergenceWarning)\n",
      "/anaconda3/lib/python3.7/site-packages/sklearn/linear_model/logistic.py:758: ConvergenceWarning: lbfgs failed to converge. Increase the number of iterations.\n",
      "  \"of iterations.\", ConvergenceWarning)\n",
      "/anaconda3/lib/python3.7/site-packages/sklearn/linear_model/logistic.py:758: ConvergenceWarning: lbfgs failed to converge. Increase the number of iterations.\n",
      "  \"of iterations.\", ConvergenceWarning)\n",
      "/anaconda3/lib/python3.7/site-packages/sklearn/linear_model/logistic.py:758: ConvergenceWarning: lbfgs failed to converge. Increase the number of iterations.\n",
      "  \"of iterations.\", ConvergenceWarning)\n",
      "/anaconda3/lib/python3.7/site-packages/sklearn/linear_model/logistic.py:758: ConvergenceWarning: lbfgs failed to converge. Increase the number of iterations.\n",
      "  \"of iterations.\", ConvergenceWarning)\n",
      "/anaconda3/lib/python3.7/site-packages/sklearn/linear_model/logistic.py:758: ConvergenceWarning: lbfgs failed to converge. Increase the number of iterations.\n",
      "  \"of iterations.\", ConvergenceWarning)\n",
      "/anaconda3/lib/python3.7/site-packages/sklearn/linear_model/logistic.py:758: ConvergenceWarning: lbfgs failed to converge. Increase the number of iterations.\n",
      "  \"of iterations.\", ConvergenceWarning)\n",
      "/anaconda3/lib/python3.7/site-packages/sklearn/linear_model/logistic.py:758: ConvergenceWarning: lbfgs failed to converge. Increase the number of iterations.\n",
      "  \"of iterations.\", ConvergenceWarning)\n",
      "/anaconda3/lib/python3.7/site-packages/sklearn/linear_model/logistic.py:758: ConvergenceWarning: lbfgs failed to converge. Increase the number of iterations.\n",
      "  \"of iterations.\", ConvergenceWarning)\n",
      "/anaconda3/lib/python3.7/site-packages/sklearn/linear_model/logistic.py:758: ConvergenceWarning: lbfgs failed to converge. Increase the number of iterations.\n",
      "  \"of iterations.\", ConvergenceWarning)\n",
      "/anaconda3/lib/python3.7/site-packages/sklearn/linear_model/logistic.py:758: ConvergenceWarning: lbfgs failed to converge. Increase the number of iterations.\n",
      "  \"of iterations.\", ConvergenceWarning)\n",
      "/anaconda3/lib/python3.7/site-packages/sklearn/linear_model/logistic.py:758: ConvergenceWarning: lbfgs failed to converge. Increase the number of iterations.\n",
      "  \"of iterations.\", ConvergenceWarning)\n",
      "/anaconda3/lib/python3.7/site-packages/sklearn/linear_model/logistic.py:758: ConvergenceWarning: lbfgs failed to converge. Increase the number of iterations.\n",
      "  \"of iterations.\", ConvergenceWarning)\n",
      "/anaconda3/lib/python3.7/site-packages/sklearn/linear_model/logistic.py:758: ConvergenceWarning: lbfgs failed to converge. Increase the number of iterations.\n",
      "  \"of iterations.\", ConvergenceWarning)\n"
     ]
    },
    {
     "name": "stderr",
     "output_type": "stream",
     "text": [
      "/anaconda3/lib/python3.7/site-packages/sklearn/linear_model/logistic.py:758: ConvergenceWarning: lbfgs failed to converge. Increase the number of iterations.\n",
      "  \"of iterations.\", ConvergenceWarning)\n",
      "/anaconda3/lib/python3.7/site-packages/sklearn/linear_model/logistic.py:758: ConvergenceWarning: lbfgs failed to converge. Increase the number of iterations.\n",
      "  \"of iterations.\", ConvergenceWarning)\n",
      "/anaconda3/lib/python3.7/site-packages/sklearn/linear_model/logistic.py:758: ConvergenceWarning: lbfgs failed to converge. Increase the number of iterations.\n",
      "  \"of iterations.\", ConvergenceWarning)\n",
      "/anaconda3/lib/python3.7/site-packages/sklearn/linear_model/logistic.py:758: ConvergenceWarning: lbfgs failed to converge. Increase the number of iterations.\n",
      "  \"of iterations.\", ConvergenceWarning)\n",
      "/anaconda3/lib/python3.7/site-packages/sklearn/linear_model/logistic.py:758: ConvergenceWarning: lbfgs failed to converge. Increase the number of iterations.\n",
      "  \"of iterations.\", ConvergenceWarning)\n",
      "/anaconda3/lib/python3.7/site-packages/sklearn/linear_model/logistic.py:758: ConvergenceWarning: lbfgs failed to converge. Increase the number of iterations.\n",
      "  \"of iterations.\", ConvergenceWarning)\n",
      "/anaconda3/lib/python3.7/site-packages/ipykernel_launcher.py:7: SettingWithCopyWarning: \n",
      "A value is trying to be set on a copy of a slice from a DataFrame.\n",
      "Try using .loc[row_indexer,col_indexer] = value instead\n",
      "\n",
      "See the caveats in the documentation: http://pandas.pydata.org/pandas-docs/stable/indexing.html#indexing-view-versus-copy\n",
      "  import sys\n"
     ]
    }
   ],
   "source": [
    "from sklearn.linear_model import LogisticRegression\n",
    "from sklearn.feature_selection import RFE\n",
    "rfe_selector = RFE(estimator=LogisticRegression(solver='lbfgs'),n_features_to_select=20)\n",
    "rfe_selector.fit(X, y)\n",
    "forward_selected_var=X_norm.columns[rfe_selector.get_support()]\n",
    "finaldata=card[forward_selected_var]\n",
    "finaldata[\"Fraud\"]=card[\"Fraud\"]"
   ]
  },
  {
   "cell_type": "markdown",
   "metadata": {},
   "source": [
    "## Out of Time Validation"
   ]
  },
  {
   "cell_type": "code",
   "execution_count": 148,
   "metadata": {
    "scrolled": true
   },
   "outputs": [
    {
     "name": "stderr",
     "output_type": "stream",
     "text": [
      "/anaconda3/lib/python3.7/site-packages/ipykernel_launcher.py:3: SettingWithCopyWarning: \n",
      "A value is trying to be set on a copy of a slice from a DataFrame.\n",
      "Try using .loc[row_indexer,col_indexer] = value instead\n",
      "\n",
      "See the caveats in the documentation: http://pandas.pydata.org/pandas-docs/stable/indexing.html#indexing-view-versus-copy\n",
      "  This is separate from the ipykernel package so we can avoid doing imports until\n"
     ]
    }
   ],
   "source": [
    "oot=data_sorted1[data_sorted1.Date>=\"2010-11-01\"]\n",
    "validation=oot[forward_selected_var]\n",
    "validation[\"Fraud\"]=oot[\"Fraud\"]"
   ]
  },
  {
   "cell_type": "markdown",
   "metadata": {},
   "source": [
    "## Normalize X"
   ]
  },
  {
   "cell_type": "code",
   "execution_count": 127,
   "metadata": {},
   "outputs": [],
   "source": [
    "train_validation=pd.concat([finaldata,validation])\n",
    "train_validation_no_fraud=train_validation.drop([\"Fraud\"],axis=1)\n",
    "norm_data=normalize(train_validation_no_fraud,axis=1)\n",
    "norm_data=pd.DataFrame(norm_data,columns=train_validation_no_fraud.columns)\n",
    "norm_data[\"Fraud\"]=train_validation[\"Fraud\"]"
   ]
  },
  {
   "cell_type": "code",
   "execution_count": 135,
   "metadata": {},
   "outputs": [],
   "source": [
    "finaldata=pd.DataFrame(norm_data[:83970])\n",
    "validation=pd.DataFrame(norm_data[83970:])"
   ]
  },
  {
   "cell_type": "code",
   "execution_count": 149,
   "metadata": {},
   "outputs": [
    {
     "data": {
      "text/html": [
       "<div>\n",
       "<style scoped>\n",
       "    .dataframe tbody tr th:only-of-type {\n",
       "        vertical-align: middle;\n",
       "    }\n",
       "\n",
       "    .dataframe tbody tr th {\n",
       "        vertical-align: top;\n",
       "    }\n",
       "\n",
       "    .dataframe thead th {\n",
       "        text-align: right;\n",
       "    }\n",
       "</style>\n",
       "<table border=\"1\" class=\"dataframe\">\n",
       "  <thead>\n",
       "    <tr style=\"text-align: right;\">\n",
       "      <th></th>\n",
       "      <th>max_Cardnum_Merch state_14d</th>\n",
       "      <th>max_Cardnum_Merch state_30d</th>\n",
       "      <th>max_Cardnum_Merchnum_1d</th>\n",
       "      <th>mean_Cardnum_Merch zip_30d</th>\n",
       "      <th>mean_Cardnum_Merchnum_30d</th>\n",
       "      <th>max_Cardnum_1d</th>\n",
       "      <th>mean_Cardnum_1d</th>\n",
       "      <th>median_Cardnum_Merchnum_1d</th>\n",
       "      <th>median_Cardnum_Merchnum_14d</th>\n",
       "      <th>median_Cardnum_Merch state_14d</th>\n",
       "      <th>...</th>\n",
       "      <th>max_Merchnum_7d</th>\n",
       "      <th>max_Merchnum_14d</th>\n",
       "      <th>max_Merchnum_30d</th>\n",
       "      <th>Actual/count_Cardnum_1d</th>\n",
       "      <th>count_Cardnum_Merch state_3d</th>\n",
       "      <th>Actual/count_Cardnum_Merch state_1d</th>\n",
       "      <th>Actual/count_Cardnum_Merch zip_1d</th>\n",
       "      <th>count_Cardnum_1d</th>\n",
       "      <th>Days_since_per_Cardnum_Merchnum</th>\n",
       "      <th>Fraud</th>\n",
       "    </tr>\n",
       "  </thead>\n",
       "  <tbody>\n",
       "    <tr>\n",
       "      <th>0</th>\n",
       "      <td>150.0</td>\n",
       "      <td>150.0</td>\n",
       "      <td>150.0</td>\n",
       "      <td>150.00</td>\n",
       "      <td>150.00</td>\n",
       "      <td>150.0</td>\n",
       "      <td>150.00</td>\n",
       "      <td>150.00</td>\n",
       "      <td>150.00</td>\n",
       "      <td>150.00</td>\n",
       "      <td>...</td>\n",
       "      <td>28392.84</td>\n",
       "      <td>28392.84</td>\n",
       "      <td>28392.84</td>\n",
       "      <td>150.0</td>\n",
       "      <td>1.0</td>\n",
       "      <td>150.0</td>\n",
       "      <td>150.0</td>\n",
       "      <td>1.0</td>\n",
       "      <td>365.0</td>\n",
       "      <td>0</td>\n",
       "    </tr>\n",
       "    <tr>\n",
       "      <th>1</th>\n",
       "      <td>495.9</td>\n",
       "      <td>495.9</td>\n",
       "      <td>495.9</td>\n",
       "      <td>495.90</td>\n",
       "      <td>495.90</td>\n",
       "      <td>495.9</td>\n",
       "      <td>495.90</td>\n",
       "      <td>495.90</td>\n",
       "      <td>495.90</td>\n",
       "      <td>495.90</td>\n",
       "      <td>...</td>\n",
       "      <td>1867.58</td>\n",
       "      <td>3657.54</td>\n",
       "      <td>3657.54</td>\n",
       "      <td>495.9</td>\n",
       "      <td>1.0</td>\n",
       "      <td>495.9</td>\n",
       "      <td>495.9</td>\n",
       "      <td>1.0</td>\n",
       "      <td>365.0</td>\n",
       "      <td>0</td>\n",
       "    </tr>\n",
       "    <tr>\n",
       "      <th>2</th>\n",
       "      <td>636.2</td>\n",
       "      <td>636.2</td>\n",
       "      <td>636.2</td>\n",
       "      <td>566.05</td>\n",
       "      <td>566.05</td>\n",
       "      <td>636.2</td>\n",
       "      <td>566.05</td>\n",
       "      <td>566.05</td>\n",
       "      <td>566.05</td>\n",
       "      <td>566.05</td>\n",
       "      <td>...</td>\n",
       "      <td>1867.58</td>\n",
       "      <td>3657.54</td>\n",
       "      <td>3657.54</td>\n",
       "      <td>318.1</td>\n",
       "      <td>2.0</td>\n",
       "      <td>318.1</td>\n",
       "      <td>318.1</td>\n",
       "      <td>2.0</td>\n",
       "      <td>0.0</td>\n",
       "      <td>0</td>\n",
       "    </tr>\n",
       "    <tr>\n",
       "      <th>5</th>\n",
       "      <td>144.0</td>\n",
       "      <td>144.0</td>\n",
       "      <td>144.0</td>\n",
       "      <td>144.00</td>\n",
       "      <td>144.00</td>\n",
       "      <td>144.0</td>\n",
       "      <td>144.00</td>\n",
       "      <td>144.00</td>\n",
       "      <td>144.00</td>\n",
       "      <td>144.00</td>\n",
       "      <td>...</td>\n",
       "      <td>2336.40</td>\n",
       "      <td>2343.70</td>\n",
       "      <td>4029.00</td>\n",
       "      <td>144.0</td>\n",
       "      <td>1.0</td>\n",
       "      <td>144.0</td>\n",
       "      <td>144.0</td>\n",
       "      <td>1.0</td>\n",
       "      <td>365.0</td>\n",
       "      <td>0</td>\n",
       "    </tr>\n",
       "    <tr>\n",
       "      <th>6</th>\n",
       "      <td>144.0</td>\n",
       "      <td>144.0</td>\n",
       "      <td>144.0</td>\n",
       "      <td>94.00</td>\n",
       "      <td>94.00</td>\n",
       "      <td>144.0</td>\n",
       "      <td>94.00</td>\n",
       "      <td>94.00</td>\n",
       "      <td>94.00</td>\n",
       "      <td>94.00</td>\n",
       "      <td>...</td>\n",
       "      <td>2336.40</td>\n",
       "      <td>2343.70</td>\n",
       "      <td>4029.00</td>\n",
       "      <td>22.0</td>\n",
       "      <td>2.0</td>\n",
       "      <td>22.0</td>\n",
       "      <td>22.0</td>\n",
       "      <td>2.0</td>\n",
       "      <td>0.0</td>\n",
       "      <td>0</td>\n",
       "    </tr>\n",
       "  </tbody>\n",
       "</table>\n",
       "<p>5 rows × 21 columns</p>\n",
       "</div>"
      ],
      "text/plain": [
       "   max_Cardnum_Merch state_14d  max_Cardnum_Merch state_30d  \\\n",
       "0                        150.0                        150.0   \n",
       "1                        495.9                        495.9   \n",
       "2                        636.2                        636.2   \n",
       "5                        144.0                        144.0   \n",
       "6                        144.0                        144.0   \n",
       "\n",
       "   max_Cardnum_Merchnum_1d  mean_Cardnum_Merch zip_30d  \\\n",
       "0                    150.0                      150.00   \n",
       "1                    495.9                      495.90   \n",
       "2                    636.2                      566.05   \n",
       "5                    144.0                      144.00   \n",
       "6                    144.0                       94.00   \n",
       "\n",
       "   mean_Cardnum_Merchnum_30d  max_Cardnum_1d  mean_Cardnum_1d  \\\n",
       "0                     150.00           150.0           150.00   \n",
       "1                     495.90           495.9           495.90   \n",
       "2                     566.05           636.2           566.05   \n",
       "5                     144.00           144.0           144.00   \n",
       "6                      94.00           144.0            94.00   \n",
       "\n",
       "   median_Cardnum_Merchnum_1d  median_Cardnum_Merchnum_14d  \\\n",
       "0                      150.00                       150.00   \n",
       "1                      495.90                       495.90   \n",
       "2                      566.05                       566.05   \n",
       "5                      144.00                       144.00   \n",
       "6                       94.00                        94.00   \n",
       "\n",
       "   median_Cardnum_Merch state_14d  ...    max_Merchnum_7d  max_Merchnum_14d  \\\n",
       "0                          150.00  ...           28392.84          28392.84   \n",
       "1                          495.90  ...            1867.58           3657.54   \n",
       "2                          566.05  ...            1867.58           3657.54   \n",
       "5                          144.00  ...            2336.40           2343.70   \n",
       "6                           94.00  ...            2336.40           2343.70   \n",
       "\n",
       "   max_Merchnum_30d  Actual/count_Cardnum_1d  count_Cardnum_Merch state_3d  \\\n",
       "0          28392.84                    150.0                           1.0   \n",
       "1           3657.54                    495.9                           1.0   \n",
       "2           3657.54                    318.1                           2.0   \n",
       "5           4029.00                    144.0                           1.0   \n",
       "6           4029.00                     22.0                           2.0   \n",
       "\n",
       "   Actual/count_Cardnum_Merch state_1d  Actual/count_Cardnum_Merch zip_1d  \\\n",
       "0                                150.0                              150.0   \n",
       "1                                495.9                              495.9   \n",
       "2                                318.1                              318.1   \n",
       "5                                144.0                              144.0   \n",
       "6                                 22.0                               22.0   \n",
       "\n",
       "   count_Cardnum_1d  Days_since_per_Cardnum_Merchnum  Fraud  \n",
       "0               1.0                            365.0      0  \n",
       "1               1.0                            365.0      0  \n",
       "2               2.0                              0.0      0  \n",
       "5               1.0                            365.0      0  \n",
       "6               2.0                              0.0      0  \n",
       "\n",
       "[5 rows x 21 columns]"
      ]
     },
     "execution_count": 149,
     "metadata": {},
     "output_type": "execute_result"
    }
   ],
   "source": [
    "finaldata.head()"
   ]
  },
  {
   "cell_type": "markdown",
   "metadata": {},
   "source": [
    "# Model building"
   ]
  },
  {
   "cell_type": "code",
   "execution_count": 150,
   "metadata": {},
   "outputs": [
    {
     "name": "stdout",
     "output_type": "stream",
     "text": [
      "Training dataset shape: (50382, 20) (50382,)\n",
      "Testing dataset shape: (33588, 20) (33588,)\n"
     ]
    }
   ],
   "source": [
    "# split into training and testing\n",
    "from sklearn.model_selection import train_test_split\n",
    "predictors=finaldata.drop(columns = ['Fraud'])\n",
    "target=finaldata['Fraud']\n",
    "X_train, X_test, y_train, y_test = train_test_split(predictors,target, test_size=0.4)\n",
    "print('Training dataset shape:', X_train.shape, y_train.shape)\n",
    "print('Testing dataset shape:', X_test.shape, y_test.shape)\n",
    "\n",
    "X_valid=validation.drop(columns = ['Fraud'])\n",
    "y_valid=validation['Fraud']"
   ]
  },
  {
   "cell_type": "markdown",
   "metadata": {},
   "source": [
    "## Logistic regression"
   ]
  },
  {
   "cell_type": "code",
   "execution_count": 151,
   "metadata": {},
   "outputs": [
    {
     "name": "stdout",
     "output_type": "stream",
     "text": [
      "FRD for training is 19.887429643527206%\n",
      "FRD for testing is 14.985590778097983%\n",
      "FRD for validation is 1.1173184357541899%\n"
     ]
    },
    {
     "name": "stderr",
     "output_type": "stream",
     "text": [
      "/anaconda3/lib/python3.7/site-packages/sklearn/linear_model/logistic.py:758: ConvergenceWarning: lbfgs failed to converge. Increase the number of iterations.\n",
      "  \"of iterations.\", ConvergenceWarning)\n"
     ]
    },
    {
     "data": {
      "image/png": "[encoded data removed]",
      "text/plain": [
       "<Figure size 432x288 with 2 Axes>"
      ]
     },
     "metadata": {
      "needs_background": "light"
     },
     "output_type": "display_data"
    }
   ],
   "source": [
    "from sklearn import metrics\n",
    "\n",
    "logreg=LogisticRegression(solver='lbfgs')\n",
    "logreg.fit(X_train, y_train)\n",
    "y_pred_train = logreg.predict(X_train)\n",
    "y_pred_test = logreg.predict(X_test)\n",
    "y_pred_valid = logreg.predict(X_valid)\n",
    "\n",
    "\n",
    "#confusion matrix\n",
    "cnf_matrix_train=metrics.confusion_matrix(y_train, y_pred_train)\n",
    "cnf_matrix_test=metrics.confusion_matrix(y_test, y_pred_test)\n",
    "cnf_matrix_valid=metrics.confusion_matrix(y_valid, y_pred_valid)\n",
    "#metrics.accuracy_score(y_test,y_pred)\n",
    "\n",
    "#Plot confusion matrix for testing\n",
    "class_names=[0,1] # name  of classes\n",
    "tick_marks = np.arange(len(class_names))\n",
    "plt.xticks(tick_marks, class_names)\n",
    "plt.yticks(tick_marks, class_names)\n",
    "# create heatmap\n",
    "sns.heatmap(pd.DataFrame(cnf_matrix_valid), annot=True, cmap=\"YlGnBu\" ,fmt='g')\n",
    "plt.title('Confusion matrix', y=1.1)\n",
    "plt.ylabel('Actual label')\n",
    "plt.xlabel('Predicted label')\n",
    "\n",
    "print(f\"FRD for training is {(cnf_matrix_train[1][1]/(cnf_matrix_train[1][0]+cnf_matrix_train[1][1]))*100}%\")\n",
    "print(f\"FRD for testing is {(cnf_matrix_test[1][1]/(cnf_matrix_test[1][0]+cnf_matrix_test[1][1]))*100}%\")\n",
    "print(f\"FRD for validation is {(cnf_matrix_valid[1][1]/(cnf_matrix_valid[1][0]+cnf_matrix_valid[1][1]))*100}%\")"
   ]
  },
  {
   "cell_type": "markdown",
   "metadata": {},
   "source": [
    "## Random Forest"
   ]
  },
  {
   "cell_type": "code",
   "execution_count": 152,
   "metadata": {},
   "outputs": [
    {
     "name": "stderr",
     "output_type": "stream",
     "text": [
      "/anaconda3/lib/python3.7/site-packages/sklearn/ensemble/forest.py:246: FutureWarning: The default value of n_estimators will change from 10 in version 0.20 to 100 in 0.22.\n",
      "  \"10 in version 0.20 to 100 in 0.22.\", FutureWarning)\n"
     ]
    },
    {
     "name": "stdout",
     "output_type": "stream",
     "text": [
      "FRD for training is 91.18198874296435%\n",
      "FRD for testing is 54.7550432276657%\n",
      "FRD for validation is 17.318435754189945%\n"
     ]
    }
   ],
   "source": [
    "from sklearn.ensemble import RandomForestClassifier\n",
    "rand_for=RandomForestClassifier(random_state=0)\n",
    "rand_for.fit(X_train, y_train)\n",
    "y_pred_train = rand_for.predict(X_train)\n",
    "y_pred_test = rand_for.predict(X_test)\n",
    "y_pred_valid = rand_for.predict(X_valid)\n",
    "\n",
    "#confusion matrix\n",
    "cnf_matrix_train=metrics.confusion_matrix(y_train, y_pred_train)\n",
    "cnf_matrix_test=metrics.confusion_matrix(y_test, y_pred_test)\n",
    "cnf_matrix_valid=metrics.confusion_matrix(y_valid, y_pred_valid)\n",
    "\n",
    "print(f\"FRD for training is {(cnf_matrix_train[1][1]/(cnf_matrix_train[1][0]+cnf_matrix_train[1][1]))*100}%\")\n",
    "print(f\"FRD for testing is {(cnf_matrix_test[1][1]/(cnf_matrix_test[1][0]+cnf_matrix_test[1][1]))*100}%\")\n",
    "print(f\"FRD for validation is {(cnf_matrix_valid[1][1]/(cnf_matrix_valid[1][0]+cnf_matrix_valid[1][1]))*100}%\")"
   ]
  },
  {
   "cell_type": "markdown",
   "metadata": {},
   "source": [
    "## Boosted forest"
   ]
  },
  {
   "cell_type": "code",
   "execution_count": 153,
   "metadata": {},
   "outputs": [
    {
     "name": "stdout",
     "output_type": "stream",
     "text": [
      "FRD for training is 76.17260787992495%\n",
      "FRD for testing is 57.925072046109506%\n",
      "FRD for validation is 20.670391061452513%\n"
     ]
    }
   ],
   "source": [
    "from sklearn.ensemble import GradientBoostingClassifier\n",
    "boosted_tree=GradientBoostingClassifier(n_estimators=100, learning_rate=0.2, random_state=0).fit(X_train, y_train)\n",
    "y_pred_train = boosted_tree.predict(X_train)\n",
    "y_pred_test = boosted_tree.predict(X_test)\n",
    "y_pred_valid = boosted_tree.predict(X_valid)\n",
    "\n",
    "#confusion matrix\n",
    "cnf_matrix_train=metrics.confusion_matrix(y_train, y_pred_train)\n",
    "cnf_matrix_test=metrics.confusion_matrix(y_test, y_pred_test)\n",
    "cnf_matrix_valid=metrics.confusion_matrix(y_valid, y_pred_valid)\n",
    "\n",
    "print(f\"FRD for training is {(cnf_matrix_train[1][1]/(cnf_matrix_train[1][0]+cnf_matrix_train[1][1]))*100}%\")\n",
    "print(f\"FRD for testing is {(cnf_matrix_test[1][1]/(cnf_matrix_test[1][0]+cnf_matrix_test[1][1]))*100}%\")\n",
    "print(f\"FRD for validation is {(cnf_matrix_valid[1][1]/(cnf_matrix_valid[1][0]+cnf_matrix_valid[1][1]))*100}%\")\n"
   ]
  }
 ],
 "metadata": {
  "kernelspec": {
   "display_name": "Python 3",
   "language": "python",
   "name": "python3"
  },
  "language_info": {
   "codemirror_mode": {
    "name": "ipython",
    "version": 3
   },
   "file_extension": ".py",
   "mimetype": "text/x-python",
   "name": "python",
   "nbconvert_exporter": "python",
   "pygments_lexer": "ipython3",
   "version": "3.7.0"
  }
 },
 "nbformat": 4,
 "nbformat_minor": 2
}
